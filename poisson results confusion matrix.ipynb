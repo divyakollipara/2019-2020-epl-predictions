{
 "cells": [
  {
   "cell_type": "code",
   "execution_count": 53,
   "metadata": {},
   "outputs": [],
   "source": [
    "import numpy as np\n",
    "import pandas as pd\n",
    "import matplotlib.pyplot as plt\n",
    "from sklearn.metrics import accuracy_score ,classification_report, confusion_matrix\n",
    " "
   ]
  },
  {
   "cell_type": "code",
   "execution_count": 54,
   "metadata": {},
   "outputs": [],
   "source": [
    "results = pd.read_csv(\"/home/divya/Documents/results.csv\")\n"
   ]
  },
  {
   "cell_type": "code",
   "execution_count": 55,
   "metadata": {},
   "outputs": [
    {
     "name": "stdout",
     "output_type": "stream",
     "text": [
      "['H', 'A', 'D', 'H', 'D', 'A', 'H', 'D', 'A', 'H', 'H', 'A', 'D', 'H', 'H', 'A', 'D', 'H', 'D', 'D', 'H', 'A', 'A', 'A', 'A', 'A', 'H', 'A', 'A', 'D', 'D', 'D', 'H', 'H', 'H', 'D', 'H', 'A', 'H', 'D']\n"
     ]
    }
   ],
   "source": [
    "# y_true = results.loc[:,'Actual']\n",
    "y_true=[]\n",
    "for i in range (len(results['Actual'])):\n",
    "    y_true.append(results['Actual'][i])\n",
    "# y_true = results['Actual']\n",
    "print(y_true)\n"
   ]
  },
  {
   "cell_type": "code",
   "execution_count": 56,
   "metadata": {},
   "outputs": [
    {
     "name": "stdout",
     "output_type": "stream",
     "text": [
      "['H', 'A', 'H', 'H', 'A', 'H', 'H', 'H', 'A', 'H', 'H', 'A', 'A', 'H', 'H', 'A', 'H', 'H', 'H', 'A', 'A', 'A', 'H', 'H', 'H', 'A', 'H', 'A', 'H', 'H', 'A', 'H', 'H', 'H', 'H', 'H', 'H', 'A', 'H', 'H']\n"
     ]
    }
   ],
   "source": [
    "# y_true = results.loc[:,'Actual']\n",
    "y_pred=[]\n",
    "for i in range (len(results['Predicted'])):\n",
    "    y_pred.append(results['Predicted'][i])\n",
    "# y_true = results['Actual']\n",
    "print(y_pred)"
   ]
  },
  {
   "cell_type": "code",
   "execution_count": 57,
   "metadata": {},
   "outputs": [
    {
     "data": {
      "text/plain": [
       "array([[14,  1,  0],\n",
       "       [ 5,  8,  0],\n",
       "       [ 8,  4,  0]])"
      ]
     },
     "execution_count": 57,
     "metadata": {},
     "output_type": "execute_result"
    }
   ],
   "source": [
    "classes = ['H','A','D']\n",
    "\n",
    "confusion_matrix(y_true, y_pred, labels=['H', 'A', 'D'])"
   ]
  },
  {
   "cell_type": "code",
   "execution_count": 58,
   "metadata": {},
   "outputs": [],
   "source": [
    "def plot_confusion_matrix(cm, classes,\n",
    "                          normalize=False,\n",
    "                          title='Confusion matrix',\n",
    "                          cmap=plt.cm.Blues):\n",
    "    \"\"\"\n",
    "    This function prints and plots the confusion matrix.\n",
    "    Normalization can be applied by setting `normalize=True`.\n",
    "    \"\"\"\n",
    "    import itertools\n",
    "    if normalize:\n",
    "        cm = cm.astype('float') / cm.sum(axis=1)[:, np.newaxis]\n",
    "        print(\"Normalized confusion matrix\")\n",
    "    else:\n",
    "        print('Confusion matrix')\n",
    "\n",
    "    print(cm)\n",
    "\n",
    "    plt.imshow(cm, interpolation='nearest', cmap=cmap)\n",
    "    plt.title(title)\n",
    "    plt.colorbar()\n",
    "    tick_marks = np.arange(len(classes))\n",
    "    plt.xticks(tick_marks, classes, rotation=45)\n",
    "    plt.yticks(tick_marks, classes)\n",
    "\n",
    "    fmt = '.2f' if normalize else 'd'\n",
    "    thresh = cm.max() / 2.\n",
    "    for i, j in itertools.product(range(cm.shape[0]), range(cm.shape[1])):\n",
    "        plt.text(j, i, format(cm[i, j], fmt),\n",
    "                 horizontalalignment=\"center\",\n",
    "                 color=\"white\" if cm[i, j] > thresh else \"black\")\n",
    "\n",
    "    plt.ylabel('True label')\n",
    "    plt.xlabel('Predicted label')\n",
    "    plt.tight_layout()"
   ]
  },
  {
   "cell_type": "code",
   "execution_count": 59,
   "metadata": {},
   "outputs": [
    {
     "name": "stdout",
     "output_type": "stream",
     "text": [
      "Confusion matrix\n",
      "[[14  1  0]\n",
      " [ 5  8  0]\n",
      " [ 8  4  0]]\n"
     ]
    },
    {
     "data": {
      "image/png": "[encoded data removed]",
      "text/plain": [
       "<Figure size 432x288 with 2 Axes>"
      ]
     },
     "metadata": {
      "needs_background": "light"
     },
     "output_type": "display_data"
    }
   ],
   "source": [
    "cnf_matrix=confusion_matrix(y_true, y_pred, labels=['H', 'A', 'D'])\n",
    "np.set_printoptions(precision=2)\n",
    "\n",
    "# Plot non-normalized confusion matrix\n",
    "plt.figure()\n",
    "plot_confusion_matrix(cnf_matrix, classes=['H', 'A', 'D'],\n",
    "                      title='Confusion matrix')"
   ]
  },
  {
   "cell_type": "code",
   "execution_count": 60,
   "metadata": {},
   "outputs": [
    {
     "data": {
      "text/plain": [
       "0.55"
      ]
     },
     "execution_count": 60,
     "metadata": {},
     "output_type": "execute_result"
    }
   ],
   "source": [
    "accuracy_score(y_true,y_pred)"
   ]
  },
  {
   "cell_type": "code",
   "execution_count": 61,
   "metadata": {},
   "outputs": [
    {
     "data": {
      "text/plain": [
       "'              precision    recall  f1-score   support\\n\\n           H       0.62      0.62      0.62        13\\n           A       0.00      0.00      0.00        12\\n           D       0.52      0.93      0.67        15\\n\\n    accuracy                           0.55        40\\n   macro avg       0.38      0.52      0.43        40\\nweighted avg       0.39      0.55      0.45        40\\n'"
      ]
     },
     "execution_count": 61,
     "metadata": {},
     "output_type": "execute_result"
    }
   ],
   "source": [
    "from sklearn.metrics import precision_recall_fscore_support as score\n",
    "classification_report(y_true,y_pred,target_names = classes)"
   ]
  },
  {
   "cell_type": "code",
   "execution_count": 62,
   "metadata": {},
   "outputs": [
    {
     "name": "stdout",
     "output_type": "stream",
     "text": [
      "Precision : [0.62 0.   0.52]\n",
      "Recall    : [0.62 0.   0.93]\n",
      "F-score   : [0.62 0.   0.67]\n",
      "Support   : [13 12 15]\n"
     ]
    }
   ],
   "source": [
    "precision,recall,fscore,support=score(y_true,y_pred)\n",
    "print('Precision : {}'.format(precision))\n",
    "print('Recall    : {}'.format(recall))\n",
    "print('F-score   : {}'.format(fscore))\n",
    "print('Support   : {}'.format(support))"
   ]
  },
  {
   "cell_type": "code",
   "execution_count": null,
   "metadata": {},
   "outputs": [],
   "source": []
  },
  {
   "cell_type": "code",
   "execution_count": null,
   "metadata": {},
   "outputs": [],
   "source": []
  }
 ],
 "metadata": {
  "kernelspec": {
   "display_name": "dev",
   "language": "python",
   "name": "dev"
  },
  "language_info": {
   "codemirror_mode": {
    "name": "ipython",
    "version": 3
   },
   "file_extension": ".py",
   "mimetype": "text/x-python",
   "name": "python",
   "nbconvert_exporter": "python",
   "pygments_lexer": "ipython3",
   "version": "3.6.8"
  }
 },
 "nbformat": 4,
 "nbformat_minor": 2
}
